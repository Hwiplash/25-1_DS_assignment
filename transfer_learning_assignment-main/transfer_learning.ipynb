{
  "cells": [
    {
      "cell_type": "markdown",
      "metadata": {
        "id": "BOlo4Ctmtm4p"
      },
      "source": [
        "# Transfer Learning Assignment\n",
        "반갑습니다 여러분. 과제를 맡은 김준호입니다. TL 세션에서 다룬 Fine-tuning과 Domain Adaptation을 직접 구현해 봅시다."
      ]
    },
    {
      "cell_type": "markdown",
      "metadata": {
        "id": "qWlAlAeRtm4s"
      },
      "source": [
        "Office-31은 여러 실습에서 자주 등장하는 이미지 데이터셋입니다. Amazon, Webcam, DSLR 세 개의 도메인으로 구성되어 있는데요. \n",
        "\n",
        "총 31개 클래스 (키보드, 마우스, 모니터 등)의 사무용품 이미지가 있고,각 도메인마다 같은 클래스가 포함되어 있지만 도메인마다 이미지 특성은 다릅니다. \n",
        "\n",
        "그래서 이런 transfer learning 실습에 적합하다고 볼 수 있습니다."
      ]
    },
    {
      "cell_type": "code",
      "execution_count": 2,
      "metadata": {
        "id": "6R098oQTS_TC"
      },
      "outputs": [],
      "source": [
        "import os\n",
        "import torch\n",
        "import torchvision\n",
        "from torchvision import transforms, datasets\n",
        "import torch.nn as nn\n",
        "import time\n",
        "from torchvision import models\n",
        "torch.cuda.set_device(0)"
      ]
    },
    {
      "cell_type": "code",
      "execution_count": 3,
      "metadata": {},
      "outputs": [
        {
          "data": {
            "text/plain": [
              "True"
            ]
          },
          "execution_count": 3,
          "metadata": {},
          "output_type": "execute_result"
        }
      ],
      "source": [
        "torch.cuda.is_available()"
      ]
    },
    {
      "cell_type": "markdown",
      "metadata": {
        "id": "K9Ut17hwUDq-"
      },
      "source": [
        "amazon을 source로, webcam을 target data로 이용해 봅시다."
      ]
    },
    {
      "cell_type": "code",
      "execution_count": 4,
      "metadata": {
        "id": "j4e--IIRU68M"
      },
      "outputs": [],
      "source": [
        "data_folder = 'OFFICE31'\n",
        "batch_size = 32\n",
        "n_class = 31\n",
        "domain_src, domain_tar = 'amazon', 'webcam'"
      ]
    },
    {
      "cell_type": "markdown",
      "metadata": {
        "id": "XA6e2YaPtm4u"
      },
      "source": [
        "source와 target domain에 대한 DataLoader를 생성하고 load해 줍시다."
      ]
    },
    {
      "cell_type": "code",
      "execution_count": 5,
      "metadata": {
        "id": "6JtN_bK9VFcM"
      },
      "outputs": [],
      "source": [
        "def load_data(root_path, domain, batch_size, phase):\n",
        "    transform_dict = {\n",
        "        'src': transforms.Compose(\n",
        "        [transforms.RandomResizedCrop(224),\n",
        "         transforms.RandomHorizontalFlip(),\n",
        "         transforms.ToTensor(),\n",
        "         transforms.Normalize(mean=[0.485, 0.456, 0.406],\n",
        "                              std=[0.229, 0.224, 0.225]),\n",
        "         ]),\n",
        "        'tar': transforms.Compose(\n",
        "        [transforms.Resize(224),\n",
        "         transforms.ToTensor(),\n",
        "         transforms.Normalize(mean=[0.485, 0.456, 0.406],\n",
        "                              std=[0.229, 0.224, 0.225]),\n",
        "         ])}\n",
        "    data = datasets.ImageFolder(root=os.path.join(root_path, domain), transform=transform_dict[phase])\n",
        "    data_loader = torch.utils.data.DataLoader(data, batch_size=batch_size, shuffle=phase=='src', drop_last=phase=='tar', num_workers=4)\n",
        "    return data_loader"
      ]
    },
    {
      "cell_type": "code",
      "execution_count": 6,
      "metadata": {
        "id": "Jf_Gw2HRVJM_"
      },
      "outputs": [
        {
          "name": "stdout",
          "output_type": "stream",
          "text": [
            "Source data number: 2817\n",
            "Target data number: 795\n"
          ]
        }
      ],
      "source": [
        "src_loader = load_data(data_folder, domain_src, batch_size, phase='src')\n",
        "tar_loader = load_data(data_folder, domain_tar, batch_size, phase='tar')\n",
        "print(f'Source data number: {len(src_loader.dataset)}')\n",
        "print(f'Target data number: {len(tar_loader.dataset)}')"
      ]
    },
    {
      "cell_type": "markdown",
      "metadata": {
        "id": "caKMn438tm4v"
      },
      "source": [
        "# Fine-tuning"
      ]
    },
    {
      "cell_type": "markdown",
      "metadata": {},
      "source": [
        "Pre-trained ResNet50을 기반으로 한 간단한 TransferModel을 정의합니다. 여기서 모델 구조는 유지하되 마지막 fc layer만 새롭게 학습되도록 구성합니다."
      ]
    },
    {
      "cell_type": "code",
      "execution_count": 7,
      "metadata": {
        "id": "OXAjmY7pVK8t"
      },
      "outputs": [],
      "source": [
        "class TransferModel(nn.Module):\n",
        "    def __init__(self, base_model: str = 'resnet50', pretrain: bool = True, n_class: int = 31):\n",
        "        super(TransferModel, self).__init__()\n",
        "        self.base_model = base_model\n",
        "        self.pretrain = pretrain\n",
        "        self.n_class = n_class\n",
        "        if self.base_model == 'resnet50':\n",
        "            self.model = models.resnet50(pretrained=self.pretrain) # TODO: pre-trained model 불러오기\n",
        "            n_features = self.model.fc.in_features\n",
        "            fc = nn.Linear(n_features, self.n_class) # TODO: 새로운 fc layer를 정의\n",
        "            self.model.fc = fc # TODO: 모델의 fc layer를 새로운 fc로 교체\n",
        "        else:\n",
        "            # Use other models you like, such as vgg or alexnet\n",
        "            pass\n",
        "        self.model.fc.weight.data.normal_(0, 0.005)\n",
        "        self.model.fc.bias.data.fill_(0.1)\n",
        "\n",
        "    def forward(self, x):\n",
        "        return self.model(x)\n",
        "    \n",
        "    def predict(self, x):\n",
        "        return self.forward(x)"
      ]
    },
    {
      "cell_type": "markdown",
      "metadata": {
        "id": "UAqT-0jRtm4w"
      },
      "source": [
        "모델이 정상적으로 작동하는지 random tensor로 테스트해 봅시다."
      ]
    },
    {
      "cell_type": "code",
      "execution_count": 8,
      "metadata": {
        "id": "LewRmYIvXEIo"
      },
      "outputs": [
        {
          "name": "stderr",
          "output_type": "stream",
          "text": [
            "/root/miniconda3/envs/hwi/lib/python3.11/site-packages/torchvision/models/_utils.py:208: UserWarning: The parameter 'pretrained' is deprecated since 0.13 and may be removed in the future, please use 'weights' instead.\n",
            "  warnings.warn(\n",
            "/root/miniconda3/envs/hwi/lib/python3.11/site-packages/torchvision/models/_utils.py:223: UserWarning: Arguments other than a weight enum or `None` for 'weights' are deprecated since 0.13 and may be removed in the future. The current behavior is equivalent to passing `weights=ResNet50_Weights.IMAGENET1K_V1`. You can also use `weights=ResNet50_Weights.DEFAULT` to get the most up-to-date weights.\n",
            "  warnings.warn(msg)\n",
            "Downloading: \"https://download.pytorch.org/models/resnet50-0676ba61.pth\" to /root/.cache/torch/hub/checkpoints/resnet50-0676ba61.pth\n",
            "100.0%\n"
          ]
        },
        {
          "name": "stdout",
          "output_type": "stream",
          "text": [
            "tensor([[ 0.1739,  0.0814,  0.1007,  0.1279,  0.1961,  0.0724,  0.0462,  0.0187,\n",
            "          0.0781, -0.1424,  0.0216,  0.1689,  0.0892,  0.0318,  0.0680, -0.0435,\n",
            "          0.0568,  0.0959,  0.1190,  0.1012,  0.1027,  0.1378,  0.1515,  0.1118,\n",
            "         -0.0316,  0.1132,  0.0771,  0.1114,  0.0968,  0.0761,  0.0065]],\n",
            "       device='cuda:0', grad_fn=<AddmmBackward0>)\n",
            "torch.Size([1, 31])\n"
          ]
        }
      ],
      "source": [
        "model = TransferModel().cuda()\n",
        "RAND_TENSOR = torch.randn(1, 3, 224, 224).cuda()\n",
        "output = model(RAND_TENSOR)\n",
        "print(output)\n",
        "print(output.shape)"
      ]
    },
    {
      "cell_type": "markdown",
      "metadata": {
        "id": "UpX-fuiXtm4w"
      },
      "source": [
        "## Finetune ResNet-50"
      ]
    },
    {
      "cell_type": "markdown",
      "metadata": {
        "id": "0uNeAiPatm4w"
      },
      "source": [
        "Office-31 dataset은 validation set이 따로 없으므로, validation set으로 target domain을 이용해 줍시다.\n",
        "\n",
        "fine-tuning을 위한 학습 및 평가 함수를 정의합니다.\n",
        "학습은 source domain에서 수행하고 target domain에서 검증합니다."
      ]
    },
    {
      "cell_type": "code",
      "execution_count": 9,
      "metadata": {
        "id": "h74gKIVqtm4w"
      },
      "outputs": [],
      "source": [
        "dataloaders = {'src': src_loader,\n",
        "               'val': tar_loader,\n",
        "               'tar': tar_loader}\n",
        "n_epoch = 100\n",
        "criterion = nn.CrossEntropyLoss()\n",
        "early_stop = 20"
      ]
    },
    {
      "cell_type": "code",
      "execution_count": 10,
      "metadata": {
        "id": "-fz_FlAIXsTF"
      },
      "outputs": [],
      "source": [
        "def finetune(model, dataloaders, optimizer):\n",
        "    since = time.time()\n",
        "    best_acc = 0\n",
        "    stop = 0\n",
        "    for epoch in range(0, n_epoch):\n",
        "        stop += 1\n",
        "        # You can uncomment this line for scheduling learning rate\n",
        "        # lr_schedule(optimizer, epoch)\n",
        "        for phase in ['src', 'val', 'tar']:\n",
        "            if phase == 'src':\n",
        "                model.train()\n",
        "            else:\n",
        "                model.eval()\n",
        "            total_loss, correct = 0, 0\n",
        "            for inputs, labels in dataloaders[phase]:\n",
        "                inputs, labels = inputs.cuda(), labels.cuda()\n",
        "                optimizer.zero_grad()\n",
        "                with torch.set_grad_enabled(phase == 'src'):\n",
        "                    outputs = model(inputs)\n",
        "                    loss = criterion(outputs, labels)\n",
        "                preds = torch.max(outputs, 1)[1]\n",
        "                if phase == 'src':\n",
        "                    loss.backward()\n",
        "                    optimizer.step()\n",
        "                total_loss += loss.item() * inputs.size(0)\n",
        "                correct += torch.sum(preds == labels.data)\n",
        "            epoch_loss = total_loss / len(dataloaders[phase].dataset)\n",
        "            epoch_acc = correct.double() / len(dataloaders[phase].dataset)\n",
        "            print(f'Epoch: [{epoch:02d}/{n_epoch:02d}]---{phase}, loss: {epoch_loss:.6f}, acc: {epoch_acc:.4f}')\n",
        "            if phase == 'val' and epoch_acc > best_acc:\n",
        "                stop = 0\n",
        "                best_acc = epoch_acc\n",
        "                torch.save(model.state_dict(), 'model.pkl')\n",
        "        if stop >= early_stop:\n",
        "            break\n",
        "        print()\n",
        "   \n",
        "    time_pass = time.time() - since\n",
        "    print(f'Training complete in {time_pass // 60:.0f}m {time_pass % 60:.0f}s')"
      ]
    },
    {
      "cell_type": "markdown",
      "metadata": {
        "id": "rGUZGrm7tm4x"
      },
      "source": [
        "이제 학습 파라미터들과 optimizer를 정의합니다.\n",
        "간단하게 SGD optimizer를 사용하고 fc layer의 학습률을 다른 layer보다 10배 크게 설정합니다."
      ]
    },
    {
      "cell_type": "code",
      "execution_count": 11,
      "metadata": {
        "id": "HGVIu0JXZaGT"
      },
      "outputs": [],
      "source": [
        "param_group = []\n",
        "learning_rate = 0.0001\n",
        "momentum = 5e-4\n",
        "for k, v in model.named_parameters():\n",
        "    if not k.__contains__('fc'):\n",
        "        param_group += [{'params': v, 'lr': learning_rate}]\n",
        "    else:\n",
        "        param_group += [{'params': v, 'lr': learning_rate * 10}]\n",
        "optimizer = torch.optim.SGD(param_group, momentum=momentum)"
      ]
    },
    {
      "cell_type": "markdown",
      "metadata": {
        "id": "F7zGR_PFtm4y"
      },
      "source": [
        "## Train and test"
      ]
    },
    {
      "cell_type": "code",
      "execution_count": 12,
      "metadata": {
        "id": "uKKrah-AZsHt"
      },
      "outputs": [
        {
          "name": "stdout",
          "output_type": "stream",
          "text": [
            "Epoch: [00/100]---src, loss: 3.365953, acc: 0.1310\n",
            "Epoch: [00/100]---val, loss: 3.184421, acc: 0.0352\n",
            "Epoch: [00/100]---tar, loss: 3.184421, acc: 0.0352\n",
            "\n",
            "Epoch: [01/100]---src, loss: 3.236497, acc: 0.2354\n",
            "Epoch: [01/100]---val, loss: 3.065301, acc: 0.1535\n",
            "Epoch: [01/100]---tar, loss: 3.065301, acc: 0.1535\n",
            "\n",
            "Epoch: [02/100]---src, loss: 3.110291, acc: 0.4160\n",
            "Epoch: [02/100]---val, loss: 2.936611, acc: 0.3950\n",
            "Epoch: [02/100]---tar, loss: 2.936611, acc: 0.3950\n",
            "\n",
            "Epoch: [03/100]---src, loss: 2.990898, acc: 0.5215\n",
            "Epoch: [03/100]---val, loss: 2.828158, acc: 0.3434\n",
            "Epoch: [03/100]---tar, loss: 2.828158, acc: 0.3434\n",
            "\n",
            "Epoch: [04/100]---src, loss: 2.869707, acc: 0.5605\n",
            "Epoch: [04/100]---val, loss: 2.710684, acc: 0.5119\n",
            "Epoch: [04/100]---tar, loss: 2.710684, acc: 0.5119\n",
            "\n",
            "Epoch: [05/100]---src, loss: 2.750624, acc: 0.6010\n",
            "Epoch: [05/100]---val, loss: 2.593340, acc: 0.5673\n",
            "Epoch: [05/100]---tar, loss: 2.593340, acc: 0.5673\n",
            "\n",
            "Epoch: [06/100]---src, loss: 2.617588, acc: 0.6368\n",
            "Epoch: [06/100]---val, loss: 2.505806, acc: 0.5761\n",
            "Epoch: [06/100]---tar, loss: 2.505806, acc: 0.5761\n",
            "\n",
            "Epoch: [07/100]---src, loss: 2.525010, acc: 0.6493\n",
            "Epoch: [07/100]---val, loss: 2.413903, acc: 0.5811\n",
            "Epoch: [07/100]---tar, loss: 2.413903, acc: 0.5811\n",
            "\n",
            "Epoch: [08/100]---src, loss: 2.405256, acc: 0.6592\n",
            "Epoch: [08/100]---val, loss: 2.317820, acc: 0.6013\n",
            "Epoch: [08/100]---tar, loss: 2.317820, acc: 0.6013\n",
            "\n",
            "Epoch: [09/100]---src, loss: 2.309059, acc: 0.6557\n",
            "Epoch: [09/100]---val, loss: 2.224089, acc: 0.6415\n",
            "Epoch: [09/100]---tar, loss: 2.224089, acc: 0.6415\n",
            "\n",
            "Epoch: [10/100]---src, loss: 2.207841, acc: 0.6766\n",
            "Epoch: [10/100]---val, loss: 2.089363, acc: 0.6252\n",
            "Epoch: [10/100]---tar, loss: 2.089363, acc: 0.6252\n",
            "\n",
            "Epoch: [11/100]---src, loss: 2.110194, acc: 0.6613\n",
            "Epoch: [11/100]---val, loss: 2.049937, acc: 0.6453\n",
            "Epoch: [11/100]---tar, loss: 2.049937, acc: 0.6453\n",
            "\n",
            "Epoch: [12/100]---src, loss: 2.018615, acc: 0.6926\n",
            "Epoch: [12/100]---val, loss: 1.961495, acc: 0.6579\n",
            "Epoch: [12/100]---tar, loss: 1.961495, acc: 0.6579\n",
            "\n",
            "Epoch: [13/100]---src, loss: 1.945800, acc: 0.6901\n",
            "Epoch: [13/100]---val, loss: 1.889619, acc: 0.6742\n",
            "Epoch: [13/100]---tar, loss: 1.889619, acc: 0.6742\n",
            "\n",
            "Epoch: [14/100]---src, loss: 1.873854, acc: 0.6954\n",
            "Epoch: [14/100]---val, loss: 1.840361, acc: 0.6730\n",
            "Epoch: [14/100]---tar, loss: 1.840361, acc: 0.6730\n",
            "\n",
            "Epoch: [15/100]---src, loss: 1.821451, acc: 0.6983\n",
            "Epoch: [15/100]---val, loss: 1.761217, acc: 0.6767\n",
            "Epoch: [15/100]---tar, loss: 1.761217, acc: 0.6767\n",
            "\n",
            "Epoch: [16/100]---src, loss: 1.744389, acc: 0.7064\n",
            "Epoch: [16/100]---val, loss: 1.695430, acc: 0.6943\n",
            "Epoch: [16/100]---tar, loss: 1.695430, acc: 0.6943\n",
            "\n",
            "Epoch: [17/100]---src, loss: 1.686736, acc: 0.7075\n",
            "Epoch: [17/100]---val, loss: 1.649856, acc: 0.6931\n",
            "Epoch: [17/100]---tar, loss: 1.649856, acc: 0.6931\n",
            "\n",
            "Epoch: [18/100]---src, loss: 1.611544, acc: 0.7157\n",
            "Epoch: [18/100]---val, loss: 1.615307, acc: 0.6730\n",
            "Epoch: [18/100]---tar, loss: 1.615307, acc: 0.6730\n",
            "\n",
            "Epoch: [19/100]---src, loss: 1.577293, acc: 0.7281\n",
            "Epoch: [19/100]---val, loss: 1.579278, acc: 0.6855\n",
            "Epoch: [19/100]---tar, loss: 1.579278, acc: 0.6855\n",
            "\n",
            "Epoch: [20/100]---src, loss: 1.545505, acc: 0.7139\n",
            "Epoch: [20/100]---val, loss: 1.530565, acc: 0.6654\n",
            "Epoch: [20/100]---tar, loss: 1.530565, acc: 0.6654\n",
            "\n",
            "Epoch: [21/100]---src, loss: 1.508222, acc: 0.7160\n",
            "Epoch: [21/100]---val, loss: 1.460305, acc: 0.6943\n",
            "Epoch: [21/100]---tar, loss: 1.460305, acc: 0.6943\n",
            "\n",
            "Epoch: [22/100]---src, loss: 1.446229, acc: 0.7394\n",
            "Epoch: [22/100]---val, loss: 1.475381, acc: 0.6893\n",
            "Epoch: [22/100]---tar, loss: 1.475381, acc: 0.6893\n",
            "\n",
            "Epoch: [23/100]---src, loss: 1.400405, acc: 0.7451\n",
            "Epoch: [23/100]---val, loss: 1.406438, acc: 0.7119\n",
            "Epoch: [23/100]---tar, loss: 1.406438, acc: 0.7119\n",
            "\n",
            "Epoch: [24/100]---src, loss: 1.350280, acc: 0.7476\n",
            "Epoch: [24/100]---val, loss: 1.380022, acc: 0.6943\n",
            "Epoch: [24/100]---tar, loss: 1.380022, acc: 0.6943\n",
            "\n",
            "Epoch: [25/100]---src, loss: 1.342229, acc: 0.7345\n",
            "Epoch: [25/100]---val, loss: 1.358337, acc: 0.6981\n",
            "Epoch: [25/100]---tar, loss: 1.358337, acc: 0.6981\n",
            "\n",
            "Epoch: [26/100]---src, loss: 1.321899, acc: 0.7380\n",
            "Epoch: [26/100]---val, loss: 1.336061, acc: 0.7031\n",
            "Epoch: [26/100]---tar, loss: 1.336061, acc: 0.7031\n",
            "\n",
            "Epoch: [27/100]---src, loss: 1.279355, acc: 0.7476\n",
            "Epoch: [27/100]---val, loss: 1.312620, acc: 0.7006\n",
            "Epoch: [27/100]---tar, loss: 1.312620, acc: 0.7006\n",
            "\n",
            "Epoch: [28/100]---src, loss: 1.242587, acc: 0.7607\n",
            "Epoch: [28/100]---val, loss: 1.252426, acc: 0.7044\n",
            "Epoch: [28/100]---tar, loss: 1.252426, acc: 0.7044\n",
            "\n",
            "Epoch: [29/100]---src, loss: 1.241782, acc: 0.7554\n",
            "Epoch: [29/100]---val, loss: 1.243644, acc: 0.7044\n",
            "Epoch: [29/100]---tar, loss: 1.243644, acc: 0.7044\n",
            "\n",
            "Epoch: [30/100]---src, loss: 1.203217, acc: 0.7490\n",
            "Epoch: [30/100]---val, loss: 1.216544, acc: 0.6956\n",
            "Epoch: [30/100]---tar, loss: 1.216544, acc: 0.6956\n",
            "\n",
            "Epoch: [31/100]---src, loss: 1.200319, acc: 0.7483\n",
            "Epoch: [31/100]---val, loss: 1.278298, acc: 0.6918\n",
            "Epoch: [31/100]---tar, loss: 1.278298, acc: 0.6918\n",
            "\n",
            "Epoch: [32/100]---src, loss: 1.167390, acc: 0.7565\n",
            "Epoch: [32/100]---val, loss: 1.201430, acc: 0.7044\n",
            "Epoch: [32/100]---tar, loss: 1.201430, acc: 0.7044\n",
            "\n",
            "Epoch: [33/100]---src, loss: 1.151139, acc: 0.7504\n",
            "Epoch: [33/100]---val, loss: 1.222872, acc: 0.6868\n",
            "Epoch: [33/100]---tar, loss: 1.222872, acc: 0.6868\n",
            "\n",
            "Epoch: [34/100]---src, loss: 1.121149, acc: 0.7600\n",
            "Epoch: [34/100]---val, loss: 1.150528, acc: 0.6994\n",
            "Epoch: [34/100]---tar, loss: 1.150528, acc: 0.6994\n",
            "\n",
            "Epoch: [35/100]---src, loss: 1.108869, acc: 0.7593\n",
            "Epoch: [35/100]---val, loss: 1.179701, acc: 0.7019\n",
            "Epoch: [35/100]---tar, loss: 1.179701, acc: 0.7019\n",
            "\n",
            "Epoch: [36/100]---src, loss: 1.099181, acc: 0.7515\n",
            "Epoch: [36/100]---val, loss: 1.121307, acc: 0.7031\n",
            "Epoch: [36/100]---tar, loss: 1.121307, acc: 0.7031\n",
            "\n",
            "Epoch: [37/100]---src, loss: 1.087799, acc: 0.7654\n",
            "Epoch: [37/100]---val, loss: 1.145582, acc: 0.6994\n",
            "Epoch: [37/100]---tar, loss: 1.145582, acc: 0.6994\n",
            "\n",
            "Epoch: [38/100]---src, loss: 1.084867, acc: 0.7597\n",
            "Epoch: [38/100]---val, loss: 1.083621, acc: 0.7170\n",
            "Epoch: [38/100]---tar, loss: 1.083621, acc: 0.7170\n",
            "\n",
            "Epoch: [39/100]---src, loss: 1.038977, acc: 0.7753\n",
            "Epoch: [39/100]---val, loss: 1.085498, acc: 0.7094\n",
            "Epoch: [39/100]---tar, loss: 1.085498, acc: 0.7094\n",
            "\n",
            "Epoch: [40/100]---src, loss: 1.039059, acc: 0.7753\n",
            "Epoch: [40/100]---val, loss: 1.060283, acc: 0.7233\n",
            "Epoch: [40/100]---tar, loss: 1.060283, acc: 0.7233\n",
            "\n",
            "Epoch: [41/100]---src, loss: 1.017061, acc: 0.7739\n",
            "Epoch: [41/100]---val, loss: 1.033583, acc: 0.7270\n",
            "Epoch: [41/100]---tar, loss: 1.033583, acc: 0.7270\n",
            "\n",
            "Epoch: [42/100]---src, loss: 1.022854, acc: 0.7689\n",
            "Epoch: [42/100]---val, loss: 1.085317, acc: 0.7145\n",
            "Epoch: [42/100]---tar, loss: 1.085317, acc: 0.7145\n",
            "\n",
            "Epoch: [43/100]---src, loss: 1.001009, acc: 0.7764\n",
            "Epoch: [43/100]---val, loss: 1.036140, acc: 0.7145\n",
            "Epoch: [43/100]---tar, loss: 1.036140, acc: 0.7145\n",
            "\n",
            "Epoch: [44/100]---src, loss: 0.999236, acc: 0.7767\n",
            "Epoch: [44/100]---val, loss: 1.031312, acc: 0.7119\n",
            "Epoch: [44/100]---tar, loss: 1.031312, acc: 0.7119\n",
            "\n",
            "Epoch: [45/100]---src, loss: 0.970509, acc: 0.7693\n",
            "Epoch: [45/100]---val, loss: 1.049182, acc: 0.7069\n",
            "Epoch: [45/100]---tar, loss: 1.049182, acc: 0.7069\n",
            "\n",
            "Epoch: [46/100]---src, loss: 0.971760, acc: 0.7703\n",
            "Epoch: [46/100]---val, loss: 1.002789, acc: 0.7245\n",
            "Epoch: [46/100]---tar, loss: 1.002789, acc: 0.7245\n",
            "\n",
            "Epoch: [47/100]---src, loss: 0.963850, acc: 0.7774\n",
            "Epoch: [47/100]---val, loss: 0.994120, acc: 0.7358\n",
            "Epoch: [47/100]---tar, loss: 0.994120, acc: 0.7358\n",
            "\n",
            "Epoch: [48/100]---src, loss: 0.954376, acc: 0.7820\n",
            "Epoch: [48/100]---val, loss: 0.985177, acc: 0.7208\n",
            "Epoch: [48/100]---tar, loss: 0.985177, acc: 0.7208\n",
            "\n",
            "Epoch: [49/100]---src, loss: 0.931392, acc: 0.7820\n",
            "Epoch: [49/100]---val, loss: 0.975899, acc: 0.7434\n",
            "Epoch: [49/100]---tar, loss: 0.975899, acc: 0.7434\n",
            "\n",
            "Epoch: [50/100]---src, loss: 0.948994, acc: 0.7728\n",
            "Epoch: [50/100]---val, loss: 0.996028, acc: 0.7245\n",
            "Epoch: [50/100]---tar, loss: 0.996028, acc: 0.7245\n",
            "\n",
            "Epoch: [51/100]---src, loss: 0.900526, acc: 0.7906\n",
            "Epoch: [51/100]---val, loss: 0.967710, acc: 0.7245\n",
            "Epoch: [51/100]---tar, loss: 0.967710, acc: 0.7245\n",
            "\n",
            "Epoch: [52/100]---src, loss: 0.905595, acc: 0.7969\n",
            "Epoch: [52/100]---val, loss: 0.962654, acc: 0.7208\n",
            "Epoch: [52/100]---tar, loss: 0.962654, acc: 0.7208\n",
            "\n",
            "Epoch: [53/100]---src, loss: 0.909406, acc: 0.7810\n",
            "Epoch: [53/100]---val, loss: 0.950937, acc: 0.7333\n",
            "Epoch: [53/100]---tar, loss: 0.950937, acc: 0.7333\n",
            "\n",
            "Epoch: [54/100]---src, loss: 0.895569, acc: 0.7874\n",
            "Epoch: [54/100]---val, loss: 0.928154, acc: 0.7358\n",
            "Epoch: [54/100]---tar, loss: 0.928154, acc: 0.7358\n",
            "\n",
            "Epoch: [55/100]---src, loss: 0.889714, acc: 0.7859\n",
            "Epoch: [55/100]---val, loss: 0.948045, acc: 0.7296\n",
            "Epoch: [55/100]---tar, loss: 0.948045, acc: 0.7296\n",
            "\n",
            "Epoch: [56/100]---src, loss: 0.877326, acc: 0.7966\n",
            "Epoch: [56/100]---val, loss: 0.940424, acc: 0.7195\n",
            "Epoch: [56/100]---tar, loss: 0.940424, acc: 0.7195\n",
            "\n",
            "Epoch: [57/100]---src, loss: 0.876083, acc: 0.7913\n",
            "Epoch: [57/100]---val, loss: 0.927758, acc: 0.7258\n",
            "Epoch: [57/100]---tar, loss: 0.927758, acc: 0.7258\n",
            "\n",
            "Epoch: [58/100]---src, loss: 0.880599, acc: 0.7856\n",
            "Epoch: [58/100]---val, loss: 0.906978, acc: 0.7371\n",
            "Epoch: [58/100]---tar, loss: 0.906978, acc: 0.7371\n",
            "\n",
            "Epoch: [59/100]---src, loss: 0.866474, acc: 0.7888\n",
            "Epoch: [59/100]---val, loss: 0.929130, acc: 0.7346\n",
            "Epoch: [59/100]---tar, loss: 0.929130, acc: 0.7346\n",
            "\n",
            "Epoch: [60/100]---src, loss: 0.843455, acc: 0.7973\n",
            "Epoch: [60/100]---val, loss: 0.979498, acc: 0.7270\n",
            "Epoch: [60/100]---tar, loss: 0.979498, acc: 0.7270\n",
            "\n",
            "Epoch: [61/100]---src, loss: 0.841350, acc: 0.8001\n",
            "Epoch: [61/100]---val, loss: 0.915334, acc: 0.7333\n",
            "Epoch: [61/100]---tar, loss: 0.915334, acc: 0.7333\n",
            "\n",
            "Epoch: [62/100]---src, loss: 0.841060, acc: 0.7962\n",
            "Epoch: [62/100]---val, loss: 0.929932, acc: 0.7233\n",
            "Epoch: [62/100]---tar, loss: 0.929932, acc: 0.7233\n",
            "\n",
            "Epoch: [63/100]---src, loss: 0.838904, acc: 0.7959\n",
            "Epoch: [63/100]---val, loss: 0.938639, acc: 0.7283\n",
            "Epoch: [63/100]---tar, loss: 0.938639, acc: 0.7283\n",
            "\n",
            "Epoch: [64/100]---src, loss: 0.819856, acc: 0.8033\n",
            "Epoch: [64/100]---val, loss: 0.893294, acc: 0.7270\n",
            "Epoch: [64/100]---tar, loss: 0.893294, acc: 0.7270\n",
            "\n",
            "Epoch: [65/100]---src, loss: 0.830369, acc: 0.7938\n",
            "Epoch: [65/100]---val, loss: 0.888542, acc: 0.7258\n",
            "Epoch: [65/100]---tar, loss: 0.888542, acc: 0.7258\n",
            "\n",
            "Epoch: [66/100]---src, loss: 0.814534, acc: 0.8058\n",
            "Epoch: [66/100]---val, loss: 0.927003, acc: 0.7220\n",
            "Epoch: [66/100]---tar, loss: 0.927003, acc: 0.7220\n",
            "\n",
            "Epoch: [67/100]---src, loss: 0.814921, acc: 0.7977\n",
            "Epoch: [67/100]---val, loss: 0.860146, acc: 0.7346\n",
            "Epoch: [67/100]---tar, loss: 0.860146, acc: 0.7346\n",
            "\n",
            "Epoch: [68/100]---src, loss: 0.791464, acc: 0.8058\n",
            "Epoch: [68/100]---val, loss: 0.880179, acc: 0.7321\n",
            "Epoch: [68/100]---tar, loss: 0.880179, acc: 0.7321\n",
            "\n",
            "Epoch: [69/100]---src, loss: 0.811214, acc: 0.8023\n",
            "Epoch: [69/100]---val, loss: 0.895802, acc: 0.7220\n",
            "Epoch: [69/100]---tar, loss: 0.895802, acc: 0.7220\n",
            "Training complete in 10m 39s\n"
          ]
        }
      ],
      "source": [
        "# TODO: fine-tuning function 호출하여 학습 진행\n",
        "finetune(model, dataloaders, optimizer)"
      ]
    },
    {
      "cell_type": "code",
      "execution_count": null,
      "metadata": {
        "id": "GR5Y1x4btm4y"
      },
      "outputs": [],
      "source": [
        "def test(model, target_test_loader):\n",
        "    model.eval()\n",
        "    correct = 0\n",
        "    len_target_dataset = len(target_test_loader.dataset)\n",
        "    with torch.no_grad():\n",
        "        for data, target in target_test_loader:\n",
        "            data, target = data.cuda(), target.cuda()\n",
        "            s_output = model.predict(data)\n",
        "            pred = torch.max(s_output, 1)[1]\n",
        "            correct += torch.sum(pred == target)\n",
        "    acc = correct.double() / len(target_test_loader.dataset)\n",
        "    return acc"
      ]
    },
    {
      "cell_type": "code",
      "execution_count": 14,
      "metadata": {
        "id": "1O2CBxmxtm4y"
      },
      "outputs": [
        {
          "name": "stdout",
          "output_type": "stream",
          "text": [
            "Test accuracy: 0.7433962264150943\n"
          ]
        }
      ],
      "source": [
        "model.load_state_dict(torch.load('model.pkl'))\n",
        "acc_test = test(model, dataloaders['tar'])\n",
        "print(f'Test accuracy: {acc_test}')"
      ]
    },
    {
      "cell_type": "markdown",
      "metadata": {
        "id": "I7Iuk_Mitm4z"
      },
      "source": [
        "여기까지가 fine-tuning 파트입니다. 실제 학습에서는 learning rate decay 같은 기법도 사용하지만, 이 과제에서는 그것이 핵심이 아니므로 생략합니다.\n",
        "\n",
        "이제 같은 dataloader를 그대로 활용해서 domain adaptation 실험을 이어가봅시다."
      ]
    },
    {
      "cell_type": "markdown",
      "metadata": {
        "id": "bO4c_QcGtm4z"
      },
      "source": [
        "# Domain Adaptation"
      ]
    },
    {
      "cell_type": "markdown",
      "metadata": {
        "id": "VJwcwLQftm40"
      },
      "source": [
        "Domain adaptation의 핵심 구조는 fine-tuning과 매우 비슷하지만,\n",
        "두 도메인 간 분포 차이를 줄이기 위한 loss function을 추가해야 합니다.\n",
        "\n",
        "여기서는 MMD와 Coral loss를 사용해 두 도메인 간 분포 차이를 계산하는 loss function을 정의합니다. \n",
        "\n",
        "해당 loss를 이용할 수 있도록 새로운 모델 클래스를 정의하고 source의 feature와 label, 그리고 target feature를 모두 이용하도록 학습 스크립트를 수정해봅시다."
      ]
    },
    {
      "cell_type": "markdown",
      "metadata": {
        "id": "Jy_1xwdJtm40"
      },
      "source": [
        "### Loss function\n",
        "Domain Adaptation에서 가장 많이 사용되는 손실 함수는 MMD (Maximum Mean Discrepancy)입니다.\n",
        "\n",
        "비교를 위해 또 다른 대표적인 손실 함수인 CORAL (CORrelation ALignment)도 함께 살펴봅니다."
      ]
    },
    {
      "cell_type": "markdown",
      "metadata": {
        "id": "z3-wKorUtm40"
      },
      "source": [
        "#### MMD loss"
      ]
    },
    {
      "cell_type": "code",
      "execution_count": 15,
      "metadata": {
        "id": "MpQH6VFwtm41"
      },
      "outputs": [],
      "source": [
        "class MMD_loss(nn.Module):\n",
        "    def __init__(self, kernel_type='rbf', kernel_mul=2.0, kernel_num=5):\n",
        "        super(MMD_loss, self).__init__()\n",
        "        self.kernel_num = kernel_num\n",
        "        self.kernel_mul = kernel_mul\n",
        "        self.fix_sigma = None\n",
        "        self.kernel_type = kernel_type\n",
        "\n",
        "    def guassian_kernel(self, source, target, kernel_mul=2.0, kernel_num=5, fix_sigma=None):\n",
        "        n_samples = int(source.size()[0]) + int(target.size()[0])\n",
        "        total = torch.cat([source, target], dim=0)\n",
        "        total0 = total.unsqueeze(0).expand(\n",
        "            int(total.size(0)), int(total.size(0)), int(total.size(1)))\n",
        "        total1 = total.unsqueeze(1).expand(\n",
        "            int(total.size(0)), int(total.size(0)), int(total.size(1)))\n",
        "        L2_distance = ((total0-total1)**2).sum(2)\n",
        "        if fix_sigma:\n",
        "            bandwidth = fix_sigma\n",
        "        else:\n",
        "            bandwidth = torch.sum(L2_distance.data) / (n_samples**2-n_samples)\n",
        "        bandwidth /= kernel_mul ** (kernel_num // 2)\n",
        "        bandwidth_list = [bandwidth * (kernel_mul**i)\n",
        "                          for i in range(kernel_num)]\n",
        "        kernel_val = [torch.exp(-L2_distance / bandwidth_temp)\n",
        "                      for bandwidth_temp in bandwidth_list]\n",
        "        return sum(kernel_val)\n",
        "\n",
        "    def linear_mmd2(self, f_of_X, f_of_Y):\n",
        "        loss = 0.0\n",
        "        delta = f_of_X.float().mean(0) - f_of_Y.float().mean(0)\n",
        "        loss = delta.dot(delta.T)\n",
        "        return loss\n",
        "\n",
        "    def forward(self, source, target):\n",
        "        if self.kernel_type == 'linear':\n",
        "            return self.linear_mmd2(source, target)\n",
        "        elif self.kernel_type == 'rbf':\n",
        "            batch_size = int(source.size()[0])\n",
        "            kernels = self.guassian_kernel(\n",
        "                source, target, kernel_mul=self.kernel_mul, kernel_num=self.kernel_num, fix_sigma=self.fix_sigma)\n",
        "            XX = torch.mean(kernels[:batch_size, :batch_size])\n",
        "            YY = torch.mean(kernels[batch_size:, batch_size:])\n",
        "            XY = torch.mean(kernels[:batch_size, batch_size:])\n",
        "            YX = torch.mean(kernels[batch_size:, :batch_size])\n",
        "            loss = torch.mean(XX + YY - XY - YX)\n",
        "            return loss\n"
      ]
    },
    {
      "cell_type": "markdown",
      "metadata": {
        "id": "NcfUy_2Dtm41"
      },
      "source": [
        "#### CORAL loss"
      ]
    },
    {
      "cell_type": "code",
      "execution_count": 16,
      "metadata": {
        "id": "uZhKJq15tm41"
      },
      "outputs": [],
      "source": [
        "def CORAL(source, target):\n",
        "    d = source.size(1)\n",
        "    ns, nt = source.size(0), target.size(0)\n",
        "\n",
        "    # source covariance\n",
        "    tmp_s = torch.ones((1, ns)).cuda() @ source\n",
        "    cs = (source.t() @ source - (tmp_s.t() @ tmp_s) / ns) / (ns - 1)\n",
        "\n",
        "    # target covariance\n",
        "    tmp_t = torch.ones((1, nt)).cuda() @ target\n",
        "    ct = (target.t() @ target - (tmp_t.t() @ tmp_t) / nt) / (nt - 1)\n",
        "\n",
        "    # frobenius norm\n",
        "    loss = (cs - ct).pow(2).sum().sqrt()\n",
        "    loss = loss / (4 * d * d)\n",
        "\n",
        "    return loss"
      ]
    },
    {
      "cell_type": "markdown",
      "metadata": {
        "id": "VB2cDp8Gtm41"
      },
      "source": [
        "### Model\n",
        "여기서도 backbone으로는 ResNet-50을 사용합니다.\n",
        "다만 이번에는 ResNet-50의 마지막 classifier layer를 제거한 feature extractor로 사용합니다."
      ]
    },
    {
      "cell_type": "code",
      "execution_count": 18,
      "metadata": {
        "id": "UOLx_OSxtm41"
      },
      "outputs": [],
      "source": [
        "from torchvision import models\n",
        "class ResNet50Fc(nn.Module):\n",
        "    def __init__(self):\n",
        "        super(ResNet50Fc, self).__init__()\n",
        "        model_resnet50 = models.resnet50(pretrained=True)\n",
        "        self.conv1 = model_resnet50.conv1\n",
        "        self.bn1 = model_resnet50.bn1\n",
        "        self.relu = model_resnet50.relu\n",
        "        self.maxpool = model_resnet50.maxpool\n",
        "        self.layer1 = model_resnet50.layer1\n",
        "        self.layer2 = model_resnet50.layer2\n",
        "        self.layer3 = model_resnet50.layer3\n",
        "        self.layer4 = model_resnet50.layer4\n",
        "        self.avgpool = model_resnet50.avgpool\n",
        "        self.__in_features = model_resnet50.fc.in_features\n",
        "\n",
        "    def forward(self, x):\n",
        "        x = self.conv1(x)\n",
        "        x = self.bn1(x)\n",
        "        x = self.relu(x)\n",
        "        x = self.maxpool(x)\n",
        "        x = self.layer1(x)\n",
        "        x = self.layer2(x)\n",
        "        x = self.layer3(x)\n",
        "        x = self.layer4(x)\n",
        "        x = self.avgpool(x)\n",
        "        x = x.view(x.size(0), -1)\n",
        "        return x\n",
        "\n",
        "    def output_num(self):\n",
        "        return self.__in_features"
      ]
    },
    {
      "cell_type": "markdown",
      "metadata": {
        "id": "IRgdNM3Wtm42"
      },
      "source": [
        "이제 Domain Adaptation을 위한 핵심 모델 클래스를 정의합니다.\n",
        "\n",
        "ResNet-50을 기반으로 하되, bottleneck layer와 새로운 fc layer를 추가합니다.\n",
        "\n",
        "중요한 점은 adapt_loss 함수로 우리가 정의한 MMD 또는 CORAL loss를 forward pass에서 함께 계산한다는 것입니다."
      ]
    },
    {
      "cell_type": "code",
      "execution_count": 20,
      "metadata": {
        "id": "oC5NKJpJtm42"
      },
      "outputs": [],
      "source": [
        "class TransferNet(nn.Module):\n",
        "    def __init__(self,\n",
        "                 num_class,\n",
        "                 base_net='resnet50',\n",
        "                 transfer_loss='mmd',\n",
        "                 use_bottleneck=True,\n",
        "                 bottleneck_width=256,\n",
        "                 width=1024):\n",
        "        super(TransferNet, self).__init__()\n",
        "\n",
        "        if base_net == 'resnet50':\n",
        "            resnet = models.resnet50(pretrained=True)\n",
        "            self.base_network = nn.Sequential(*list(resnet.children())[:-1])  # remove final fc\n",
        "            self.feature_dim = 2048\n",
        "        else:\n",
        "            raise NotImplementedError(\"Only resnet50 is supported for now.\")\n",
        "\n",
        "        self.use_bottleneck = use_bottleneck\n",
        "        self.transfer_loss = transfer_loss\n",
        "\n",
        "        if self.use_bottleneck:\n",
        "            self.bottleneck_layer = nn.Sequential(\n",
        "                nn.Linear(self.feature_dim, bottleneck_width),\n",
        "                nn.BatchNorm1d(bottleneck_width),\n",
        "                nn.ReLU()\n",
        "            )\n",
        "            classifier_input_dim = bottleneck_width\n",
        "        else:\n",
        "            self.bottleneck_layer = nn.Identity()\n",
        "            classifier_input_dim = self.feature_dim\n",
        "\n",
        "        self.classifier_layer = nn.Sequential(\n",
        "            nn.Linear(classifier_input_dim, width),\n",
        "            nn.BatchNorm1d(width),\n",
        "            nn.ReLU(),\n",
        "            nn.Linear(width, num_class)\n",
        "        )\n",
        "\n",
        "        # Initialize weights\n",
        "        if isinstance(self.bottleneck_layer, nn.Sequential):\n",
        "            self.bottleneck_layer[0].weight.data.normal_(0, 0.005)\n",
        "            self.bottleneck_layer[0].bias.data.fill_(0.1)\n",
        "\n",
        "        for i in range(2):\n",
        "            self.classifier_layer[i * 3].weight.data.normal_(0, 0.01)\n",
        "            self.classifier_layer[i * 3].bias.data.fill_(0.0)\n",
        "\n",
        "    def forward(self, source, target):\n",
        "        # Feature extraction\n",
        "        source = self.base_network(source).squeeze(-1).squeeze(-1)\n",
        "        target = self.base_network(target).squeeze(-1).squeeze(-1)\n",
        "\n",
        "        # Bottleneck\n",
        "        source_feat = self.bottleneck_layer(source)\n",
        "        target_feat = self.bottleneck_layer(target)\n",
        "\n",
        "        # Classification\n",
        "        source_clf = self.classifier_layer(source_feat)\n",
        "\n",
        "        # Adaptation loss\n",
        "        transfer_loss = self.adapt_loss(source_feat, target_feat, self.transfer_loss)\n",
        "\n",
        "        return source_clf, transfer_loss\n",
        "\n",
        "    def predict(self, x):\n",
        "        x = self.base_network(x).squeeze(-1).squeeze(-1)\n",
        "        x = self.bottleneck_layer(x)\n",
        "        return self.classifier_layer(x)\n",
        "\n",
        "    def adapt_loss(self, X, Y, adapt_loss):\n",
        "        if adapt_loss == 'mmd':\n",
        "            mmd_loss = MMD_loss()\n",
        "            loss = mmd_loss(X, Y)\n",
        "        elif adapt_loss == 'coral':\n",
        "            loss = CORAL(X, Y)\n",
        "        else:\n",
        "            loss = 0\n",
        "        return loss\n"
      ]
    },
    {
      "cell_type": "markdown",
      "metadata": {
        "id": "hAdPs27btm42"
      },
      "source": [
        "### Train\n",
        "이제 Domain Adaptation 모델을 학습시켜 봅시다."
      ]
    },
    {
      "cell_type": "code",
      "execution_count": 21,
      "metadata": {
        "id": "OK6P8uMDtm42"
      },
      "outputs": [],
      "source": [
        "transfer_loss = 'mmd'\n",
        "learning_rate = 0.0001\n",
        "transfer_model = TransferNet(n_class, transfer_loss=transfer_loss, base_net='resnet50').cuda()\n",
        "optimizer = torch.optim.SGD([\n",
        "    {'params': transfer_model.base_network.parameters()},\n",
        "    {'params': transfer_model.bottleneck_layer.parameters(), 'lr': 10 * learning_rate},\n",
        "    {'params': transfer_model.classifier_layer.parameters(), 'lr': 10 * learning_rate},\n",
        "], lr=learning_rate, momentum=0.9, weight_decay=5e-4)\n",
        "lamb = 10 # weight for transfer loss, it is a hyperparameter that needs to be tuned"
      ]
    },
    {
      "cell_type": "markdown",
      "metadata": {
        "id": "4WpUfcHItm42"
      },
      "source": [
        "학습 함수에서는 source 데이터와 label, target 데이터를 모두 사용해야 하므로, source와 target의 dataloader를 zip으로 묶어서 동시에 iterate합니다.\n",
        "\n",
        "보통 두 도메인의 샘플 수는 다르기 때문에, 여러 epoch에 걸쳐 무작위로 잘 섞이면 전체 데이터를 충분히 학습할 수 있습니다."
      ]
    },
    {
      "cell_type": "code",
      "execution_count": 22,
      "metadata": {
        "id": "AGlVNI2ktm42"
      },
      "outputs": [],
      "source": [
        "def train(dataloaders, model, optimizer):\n",
        "    source_loader, target_train_loader, target_test_loader = dataloaders['src'], dataloaders['val'], dataloaders['tar']\n",
        "    len_source_loader = len(source_loader)\n",
        "    len_target_loader = len(target_train_loader)\n",
        "    best_acc = 0\n",
        "    stop = 0\n",
        "    n_batch = min(len_source_loader, len_target_loader)\n",
        "    for e in range(n_epoch):\n",
        "        stop += 1\n",
        "        train_loss_clf, train_loss_transfer, train_loss_total = 0, 0, 0\n",
        "        model.train()\n",
        "        for (src, tar) in zip(source_loader, target_train_loader):\n",
        "            data_source, label_source = src\n",
        "            data_target, _ = tar\n",
        "            data_source, label_source = data_source.cuda(), label_source.cuda()\n",
        "            data_target = data_target.cuda()\n",
        "\n",
        "            optimizer.zero_grad()\n",
        "            label_source_pred, transfer_loss = model(data_source, data_target)\n",
        "            clf_loss = criterion(label_source_pred, label_source)\n",
        "            loss = clf_loss + lamb * transfer_loss\n",
        "            loss.backward()\n",
        "            optimizer.step()\n",
        "            train_loss_clf = clf_loss.detach().item() + train_loss_clf\n",
        "            train_loss_transfer = transfer_loss.detach().item() + train_loss_transfer\n",
        "            train_loss_total = loss.detach().item() + train_loss_total\n",
        "        acc = test(model, target_test_loader)\n",
        "        print(f'Epoch: [{e:2d}/{n_epoch}], cls_loss: {train_loss_clf/n_batch:.4f}, transfer_loss: {train_loss_transfer/n_batch:.4f}, total_Loss: {train_loss_total/n_batch:.4f}, acc: {acc:.4f}')\n",
        "        if best_acc < acc:\n",
        "            best_acc = acc\n",
        "            torch.save(model.state_dict(), 'trans_model.pkl')\n",
        "            stop = 0\n",
        "        if stop >= early_stop:\n",
        "            break"
      ]
    },
    {
      "cell_type": "code",
      "execution_count": 23,
      "metadata": {
        "id": "nqSCG6-Xtm43",
        "scrolled": true
      },
      "outputs": [
        {
          "name": "stdout",
          "output_type": "stream",
          "text": [
            "Epoch: [ 0/100], cls_loss: 3.0644, transfer_loss: 0.1318, total_Loss: 4.3820, acc: 0.5069\n",
            "Epoch: [ 1/100], cls_loss: 2.1785, transfer_loss: 0.1287, total_Loss: 3.4655, acc: 0.6440\n",
            "Epoch: [ 2/100], cls_loss: 1.6507, transfer_loss: 0.1249, total_Loss: 2.8997, acc: 0.6805\n",
            "Epoch: [ 3/100], cls_loss: 1.3553, transfer_loss: 0.1225, total_Loss: 2.5799, acc: 0.6503\n",
            "Epoch: [ 4/100], cls_loss: 1.1815, transfer_loss: 0.1200, total_Loss: 2.3811, acc: 0.6830\n",
            "Epoch: [ 5/100], cls_loss: 1.0202, transfer_loss: 0.1180, total_Loss: 2.1997, acc: 0.6780\n",
            "Epoch: [ 6/100], cls_loss: 0.9400, transfer_loss: 0.1168, total_Loss: 2.1075, acc: 0.7044\n",
            "Epoch: [ 7/100], cls_loss: 0.9242, transfer_loss: 0.1167, total_Loss: 2.0910, acc: 0.7145\n",
            "Epoch: [ 8/100], cls_loss: 0.8477, transfer_loss: 0.1144, total_Loss: 1.9918, acc: 0.7057\n",
            "Epoch: [ 9/100], cls_loss: 0.7611, transfer_loss: 0.1130, total_Loss: 1.8911, acc: 0.6969\n",
            "Epoch: [10/100], cls_loss: 0.7641, transfer_loss: 0.1121, total_Loss: 1.8847, acc: 0.6717\n",
            "Epoch: [11/100], cls_loss: 0.7085, transfer_loss: 0.1101, total_Loss: 1.8099, acc: 0.6855\n",
            "Epoch: [12/100], cls_loss: 0.7315, transfer_loss: 0.1098, total_Loss: 1.8298, acc: 0.6818\n",
            "Epoch: [13/100], cls_loss: 0.6931, transfer_loss: 0.1085, total_Loss: 1.7781, acc: 0.7019\n",
            "Epoch: [14/100], cls_loss: 0.6491, transfer_loss: 0.1069, total_Loss: 1.7185, acc: 0.6780\n",
            "Epoch: [15/100], cls_loss: 0.6710, transfer_loss: 0.1049, total_Loss: 1.7205, acc: 0.6881\n",
            "Epoch: [16/100], cls_loss: 0.6306, transfer_loss: 0.1018, total_Loss: 1.6484, acc: 0.7057\n",
            "Epoch: [17/100], cls_loss: 0.5609, transfer_loss: 0.1023, total_Loss: 1.5841, acc: 0.6616\n",
            "Epoch: [18/100], cls_loss: 0.6434, transfer_loss: 0.1007, total_Loss: 1.6508, acc: 0.6541\n",
            "Epoch: [19/100], cls_loss: 0.6420, transfer_loss: 0.0987, total_Loss: 1.6293, acc: 0.6730\n",
            "Epoch: [20/100], cls_loss: 0.5942, transfer_loss: 0.0970, total_Loss: 1.5638, acc: 0.6855\n",
            "Epoch: [21/100], cls_loss: 0.5781, transfer_loss: 0.0952, total_Loss: 1.5301, acc: 0.6780\n",
            "Epoch: [22/100], cls_loss: 0.5625, transfer_loss: 0.0918, total_Loss: 1.4804, acc: 0.6818\n",
            "Epoch: [23/100], cls_loss: 0.5501, transfer_loss: 0.0881, total_Loss: 1.4314, acc: 0.6566\n",
            "Epoch: [24/100], cls_loss: 0.5294, transfer_loss: 0.0899, total_Loss: 1.4283, acc: 0.6730\n",
            "Epoch: [25/100], cls_loss: 0.5999, transfer_loss: 0.0858, total_Loss: 1.4580, acc: 0.6616\n",
            "Epoch: [26/100], cls_loss: 0.5953, transfer_loss: 0.0841, total_Loss: 1.4360, acc: 0.6818\n",
            "Epoch: [27/100], cls_loss: 0.5751, transfer_loss: 0.0832, total_Loss: 1.4074, acc: 0.6616\n"
          ]
        }
      ],
      "source": [
        "# TODO: Domain Adaptation 모델을 학습시키는 함수를 호출하여 학습 진행\n",
        "train(dataloaders, transfer_model, optimizer)"
      ]
    },
    {
      "cell_type": "code",
      "execution_count": 24,
      "metadata": {
        "id": "yWvYODRDtm43"
      },
      "outputs": [
        {
          "name": "stdout",
          "output_type": "stream",
          "text": [
            "Test accuracy: 0.7144654088050314\n"
          ]
        }
      ],
      "source": [
        "transfer_model.load_state_dict(torch.load('trans_model.pkl'))\n",
        "acc_test = test(transfer_model, dataloaders['tar'])\n",
        "print(f'Test accuracy: {acc_test}')"
      ]
    }
  ],
  "metadata": {
    "colab": {
      "collapsed_sections": [],
      "name": "deep_transfer_tutorial.ipynb",
      "provenance": []
    },
    "kernelspec": {
      "display_name": "hwi",
      "language": "python",
      "name": "python3"
    },
    "language_info": {
      "codemirror_mode": {
        "name": "ipython",
        "version": 3
      },
      "file_extension": ".py",
      "mimetype": "text/x-python",
      "name": "python",
      "nbconvert_exporter": "python",
      "pygments_lexer": "ipython3",
      "version": "3.11.11"
    }
  },
  "nbformat": 4,
  "nbformat_minor": 0
}
